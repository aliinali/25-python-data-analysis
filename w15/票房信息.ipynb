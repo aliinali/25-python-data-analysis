{
 "cells": [
  {
   "cell_type": "markdown",
   "id": "da9f6d0b",
   "metadata": {},
   "source": [
    "## 票房信息"
   ]
  },
  {
   "cell_type": "code",
   "execution_count": 2,
   "id": "9b697ef8",
   "metadata": {},
   "outputs": [],
   "source": [
    "import pandas as pd\n",
    "import numpy as np\n",
    "from matplotlib import pyplot as plt\n",
    "import re\n",
    "\n",
    "plt.rcParams['font.sans-serif']=['SimHei'] \n",
    "plt.rcParams['axes.unicode_minus']=False \n"
   ]
  },
  {
   "cell_type": "markdown",
   "id": "423cd82d",
   "metadata": {},
   "source": [
    "#### 1.导入并检查数据"
   ]
  },
  {
   "cell_type": "code",
   "execution_count": 3,
   "id": "b0f1087c",
   "metadata": {},
   "outputs": [
    {
     "data": {
      "text/html": [
       "<div>\n",
       "<style scoped>\n",
       "    .dataframe tbody tr th:only-of-type {\n",
       "        vertical-align: middle;\n",
       "    }\n",
       "\n",
       "    .dataframe tbody tr th {\n",
       "        vertical-align: top;\n",
       "    }\n",
       "\n",
       "    .dataframe thead th {\n",
       "        text-align: right;\n",
       "    }\n",
       "</style>\n",
       "<table border=\"1\" class=\"dataframe\">\n",
       "  <thead>\n",
       "    <tr style=\"text-align: right;\">\n",
       "      <th></th>\n",
       "      <th>电影ID</th>\n",
       "      <th>票房地区</th>\n",
       "      <th>货币单位</th>\n",
       "      <th>上映周次</th>\n",
       "      <th>上映时间段</th>\n",
       "      <th>场均人次(人)</th>\n",
       "      <th>单周票房(万)</th>\n",
       "      <th>累计票房(万)</th>\n",
       "    </tr>\n",
       "  </thead>\n",
       "  <tbody>\n",
       "    <tr>\n",
       "      <th>0</th>\n",
       "      <td>1007</td>\n",
       "      <td>香港票房</td>\n",
       "      <td>港币</td>\n",
       "      <td>第6周</td>\n",
       "      <td>2003年 10月30日-11月05日</td>\n",
       "      <td>10.0</td>\n",
       "      <td>23</td>\n",
       "      <td>2491</td>\n",
       "    </tr>\n",
       "    <tr>\n",
       "      <th>1</th>\n",
       "      <td>1007</td>\n",
       "      <td>香港票房</td>\n",
       "      <td>港币</td>\n",
       "      <td>第5周</td>\n",
       "      <td>2003年 10月23日-10月29日</td>\n",
       "      <td>8.0</td>\n",
       "      <td>53</td>\n",
       "      <td>2468</td>\n",
       "    </tr>\n",
       "    <tr>\n",
       "      <th>2</th>\n",
       "      <td>1007</td>\n",
       "      <td>香港票房</td>\n",
       "      <td>港币</td>\n",
       "      <td>第4周</td>\n",
       "      <td>2003年 10月16日-10月22日</td>\n",
       "      <td>4.0</td>\n",
       "      <td>199</td>\n",
       "      <td>2414</td>\n",
       "    </tr>\n",
       "    <tr>\n",
       "      <th>3</th>\n",
       "      <td>1007</td>\n",
       "      <td>香港票房</td>\n",
       "      <td>港币</td>\n",
       "      <td>第3周</td>\n",
       "      <td>2003年 10月09日-10月15日</td>\n",
       "      <td>1.0</td>\n",
       "      <td>530</td>\n",
       "      <td>2214</td>\n",
       "    </tr>\n",
       "    <tr>\n",
       "      <th>4</th>\n",
       "      <td>1007</td>\n",
       "      <td>香港票房</td>\n",
       "      <td>港币</td>\n",
       "      <td>第1周</td>\n",
       "      <td>2003年 09月25日-10月01日</td>\n",
       "      <td>2.0</td>\n",
       "      <td>527</td>\n",
       "      <td>527</td>\n",
       "    </tr>\n",
       "  </tbody>\n",
       "</table>\n",
       "</div>"
      ],
      "text/plain": [
       "   电影ID  票房地区 货币单位 上映周次                上映时间段  场均人次(人)  单周票房(万)  累计票房(万)\n",
       "0  1007  香港票房   港币  第6周  2003年 10月30日-11月05日     10.0       23     2491\n",
       "1  1007  香港票房   港币  第5周  2003年 10月23日-10月29日      8.0       53     2468\n",
       "2  1007  香港票房   港币  第4周  2003年 10月16日-10月22日      4.0      199     2414\n",
       "3  1007  香港票房   港币  第3周  2003年 10月09日-10月15日      1.0      530     2214\n",
       "4  1007  香港票房   港币  第1周  2003年 09月25日-10月01日      2.0      527      527"
      ]
     },
     "execution_count": 3,
     "metadata": {},
     "output_type": "execute_result"
    }
   ],
   "source": [
    "# 读入数据\n",
    "salary_df = pd.read_excel(\"movies.xlsx\", sheet_name=1)\n",
    "# 检查信息导入\n",
    "salary_df.head()\n"
   ]
  },
  {
   "cell_type": "markdown",
   "id": "b736b308",
   "metadata": {},
   "source": [
    "#### 2.重命名列名"
   ]
  },
  {
   "cell_type": "code",
   "execution_count": 4,
   "id": "b9c41293",
   "metadata": {},
   "outputs": [
    {
     "name": "stdout",
     "output_type": "stream",
     "text": [
      "Index(['id', 'region', 'currency', 'week', 'date_gap', 'avg_audience',\n",
      "       'week_salary', 'accum_salary'],\n",
      "      dtype='object')\n"
     ]
    }
   ],
   "source": [
    "salary_df.columns = ['id', 'region', 'currency', 'week', 'date_gap', 'avg_audience', 'week_salary', 'accum_salary']\n",
    "print(salary_df.columns)"
   ]
  },
  {
   "cell_type": "markdown",
   "id": "81ae841a",
   "metadata": {},
   "source": [
    "#### 3. 检查空值并填充"
   ]
  },
  {
   "cell_type": "code",
   "execution_count": 5,
   "id": "96878c79",
   "metadata": {},
   "outputs": [],
   "source": [
    "salary_df['avg_audience'] = salary_df['avg_audience'].apply(lambda x:None if x=='N/A' else x)"
   ]
  },
  {
   "cell_type": "markdown",
   "id": "18f9311e",
   "metadata": {},
   "source": [
    "#### 4.描述性统计与相关性计算"
   ]
  },
  {
   "cell_type": "code",
   "execution_count": 6,
   "id": "3a311be6",
   "metadata": {},
   "outputs": [
    {
     "name": "stdout",
     "output_type": "stream",
     "text": [
      "--------------------------------------------------\n",
      "描述性统计\n",
      "                  id  avg_audience   week_salary   accum_salary\n",
      "count    1724.000000   1605.000000   1724.000000    1724.000000\n",
      "mean   134840.483759     25.934579    593.680974    6640.023782\n",
      "std    151635.435331     33.324054   2284.262217   14540.962289\n",
      "min        14.000000      0.000000      0.000000       0.000000\n",
      "25%      1320.000000      5.000000      5.000000     155.000000\n",
      "50%      2405.000000     12.000000     52.000000    1274.500000\n",
      "75%    303851.000000     36.000000    340.000000    6100.500000\n",
      "max    317408.000000    370.000000  43615.000000  132578.000000\n",
      "--------------------------------------------------\n",
      "相关性\n",
      "              avg_audience  week_salary  accum_salary\n",
      "avg_audience      1.000000     0.021540     -0.040694\n",
      "week_salary       0.021540     1.000000      0.340775\n",
      "accum_salary     -0.040694     0.340775      1.000000\n"
     ]
    }
   ],
   "source": [
    "#描述性统计\n",
    "print(\"-\"*50)\n",
    "print(\"描述性统计\")\n",
    "print(salary_df.describe())\n",
    "#相关性\n",
    "df_show = salary_df[['avg_audience','week_salary','accum_salary']]\n",
    "print(\"-\"*50)\n",
    "print(\"相关性\")\n",
    "print(df_show.corr(method=\"pearson\"))"
   ]
  },
  {
   "cell_type": "markdown",
   "id": "e828c93d",
   "metadata": {},
   "source": [
    "#### 5.平均内地票房"
   ]
  },
  {
   "cell_type": "code",
   "execution_count": 7,
   "id": "18245b6c",
   "metadata": {},
   "outputs": [
    {
     "data": {
      "text/plain": [
       "1104.4635879218472"
      ]
     },
     "execution_count": 7,
     "metadata": {},
     "output_type": "execute_result"
    }
   ],
   "source": [
    "mainland_salary_df = salary_df[salary_df['region'] == \"内地票房\"]\n",
    "mainland_salary_df['week_salary'].mean()"
   ]
  },
  {
   "cell_type": "markdown",
   "id": "7703d5d3",
   "metadata": {},
   "source": [
    "#### 6.累计票房散点图"
   ]
  },
  {
   "cell_type": "code",
   "execution_count": 8,
   "id": "b6c483be",
   "metadata": {},
   "outputs": [],
   "source": [
    "#读取movies_df\n",
    "movies_df = pd.read_excel(\"movies.xlsx\", sheet_name = 0)"
   ]
  },
  {
   "cell_type": "code",
   "execution_count": 34,
   "id": "de520297",
   "metadata": {},
   "outputs": [
    {
     "data": {
      "text/html": [
       "<div>\n",
       "<style scoped>\n",
       "    .dataframe tbody tr th:only-of-type {\n",
       "        vertical-align: middle;\n",
       "    }\n",
       "\n",
       "    .dataframe tbody tr th {\n",
       "        vertical-align: top;\n",
       "    }\n",
       "\n",
       "    .dataframe thead th {\n",
       "        text-align: right;\n",
       "    }\n",
       "</style>\n",
       "<table border=\"1\" class=\"dataframe\">\n",
       "  <thead>\n",
       "    <tr style=\"text-align: right;\">\n",
       "      <th></th>\n",
       "      <th>id</th>\n",
       "      <th>region</th>\n",
       "      <th>currency</th>\n",
       "      <th>week</th>\n",
       "      <th>date_gap</th>\n",
       "      <th>avg_audience</th>\n",
       "      <th>week_salary</th>\n",
       "      <th>accum_salary</th>\n",
       "      <th>accum_salary_cny</th>\n",
       "    </tr>\n",
       "  </thead>\n",
       "  <tbody>\n",
       "    <tr>\n",
       "      <th>0</th>\n",
       "      <td>1007</td>\n",
       "      <td>香港票房</td>\n",
       "      <td>港币</td>\n",
       "      <td>第6周</td>\n",
       "      <td>2003年 10月30日-11月05日</td>\n",
       "      <td>10.0</td>\n",
       "      <td>23</td>\n",
       "      <td>2491</td>\n",
       "      <td>2839.74</td>\n",
       "    </tr>\n",
       "    <tr>\n",
       "      <th>1</th>\n",
       "      <td>1007</td>\n",
       "      <td>香港票房</td>\n",
       "      <td>港币</td>\n",
       "      <td>第5周</td>\n",
       "      <td>2003年 10月23日-10月29日</td>\n",
       "      <td>8.0</td>\n",
       "      <td>53</td>\n",
       "      <td>2468</td>\n",
       "      <td>2813.52</td>\n",
       "    </tr>\n",
       "    <tr>\n",
       "      <th>2</th>\n",
       "      <td>1007</td>\n",
       "      <td>香港票房</td>\n",
       "      <td>港币</td>\n",
       "      <td>第4周</td>\n",
       "      <td>2003年 10月16日-10月22日</td>\n",
       "      <td>4.0</td>\n",
       "      <td>199</td>\n",
       "      <td>2414</td>\n",
       "      <td>2751.96</td>\n",
       "    </tr>\n",
       "    <tr>\n",
       "      <th>3</th>\n",
       "      <td>1007</td>\n",
       "      <td>香港票房</td>\n",
       "      <td>港币</td>\n",
       "      <td>第3周</td>\n",
       "      <td>2003年 10月09日-10月15日</td>\n",
       "      <td>1.0</td>\n",
       "      <td>530</td>\n",
       "      <td>2214</td>\n",
       "      <td>2523.96</td>\n",
       "    </tr>\n",
       "    <tr>\n",
       "      <th>4</th>\n",
       "      <td>1007</td>\n",
       "      <td>香港票房</td>\n",
       "      <td>港币</td>\n",
       "      <td>第1周</td>\n",
       "      <td>2003年 09月25日-10月01日</td>\n",
       "      <td>2.0</td>\n",
       "      <td>527</td>\n",
       "      <td>527</td>\n",
       "      <td>600.78</td>\n",
       "    </tr>\n",
       "  </tbody>\n",
       "</table>\n",
       "</div>"
      ],
      "text/plain": [
       "     id region currency week             date_gap  avg_audience  week_salary  \\\n",
       "0  1007   香港票房       港币  第6周  2003年 10月30日-11月05日          10.0           23   \n",
       "1  1007   香港票房       港币  第5周  2003年 10月23日-10月29日           8.0           53   \n",
       "2  1007   香港票房       港币  第4周  2003年 10月16日-10月22日           4.0          199   \n",
       "3  1007   香港票房       港币  第3周  2003年 10月09日-10月15日           1.0          530   \n",
       "4  1007   香港票房       港币  第1周  2003年 09月25日-10月01日           2.0          527   \n",
       "\n",
       "   accum_salary  accum_salary_cny  \n",
       "0          2491           2839.74  \n",
       "1          2468           2813.52  \n",
       "2          2414           2751.96  \n",
       "3          2214           2523.96  \n",
       "4           527            600.78  "
      ]
     },
     "execution_count": 34,
     "metadata": {},
     "output_type": "execute_result"
    }
   ],
   "source": [
    "salary_df['id'] = salary_df['id'].astype(int)\n",
    "salary_df['accum_salary'] = salary_df['accum_salary'].astype(int)\n",
    "\n",
    "#统一为rmb\n",
    "def extract(row):\n",
    "    HKD = 1.14\n",
    "    USD = 6.90\n",
    "    if row['region'] == '香港票房':\n",
    "        return row['accum_salary'] * HKD\n",
    "    elif row['region'] == '北美票房':\n",
    "        return row['accum_salary'] * USD\n",
    "    else:\n",
    "        return row['accum_salary']\n",
    "    \n",
    "salary_df['accum_salary_cny'] = salary_df.apply(extract, axis = 1)\n",
    "salary_df.head()\n"
   ]
  },
  {
   "cell_type": "code",
   "execution_count": 58,
   "id": "f1d2b889",
   "metadata": {},
   "outputs": [
    {
     "name": "stderr",
     "output_type": "stream",
     "text": [
      "C:\\Users\\Huawei\\AppData\\Local\\Temp\\ipykernel_18892\\1483136570.py:2: FutureWarning: The provided callable <built-in function max> is currently using SeriesGroupBy.max. In a future version of pandas, the provided callable will be used directly. To keep current behavior pass the string \"max\" instead.\n",
      "  accum_salary_df = salary_df.groupby('id').agg({'accum_salary_cny':max})\n"
     ]
    }
   ],
   "source": [
    "\n",
    "#保留累计票房最大值\n",
    "accum_salary_df = salary_df.groupby('id').agg({'accum_salary_cny':max})\n",
    "accum_salary_df.head()\n",
    "accum_salary = list(accum_salary_df['accum_salary_cny'])\n",
    "ids = list(accum_salary_df.index)\n",
    "#怕salary和times对不上\n",
    "id_salary = {id:salary for (id,salary) in zip(ids, accum_salary)}"
   ]
  },
  {
   "cell_type": "code",
   "execution_count": null,
   "id": "ead7bde5",
   "metadata": {},
   "outputs": [],
   "source": []
  },
  {
   "cell_type": "code",
   "execution_count": 61,
   "id": "9633cee4",
   "metadata": {},
   "outputs": [
    {
     "name": "stderr",
     "output_type": "stream",
     "text": [
      "C:\\Users\\Huawei\\AppData\\Local\\Temp\\ipykernel_18892\\1781089837.py:4: SettingWithCopyWarning: \n",
      "A value is trying to be set on a copy of a slice from a DataFrame.\n",
      "Try using .loc[row_indexer,col_indexer] = value instead\n",
      "\n",
      "See the caveats in the documentation: https://pandas.pydata.org/pandas-docs/stable/user_guide/indexing.html#returning-a-view-versus-a-copy\n",
      "  ids_df['片长'] =ids_df['片长'].apply(lambda x: re.findall(r'\\d+\\.?\\d*', str(x))[0] if re.findall(r'\\d+\\.?\\d*', str(x)) else None)\n"
     ]
    },
    {
     "data": {
      "text/html": [
       "<div>\n",
       "<style scoped>\n",
       "    .dataframe tbody tr th:only-of-type {\n",
       "        vertical-align: middle;\n",
       "    }\n",
       "\n",
       "    .dataframe tbody tr th {\n",
       "        vertical-align: top;\n",
       "    }\n",
       "\n",
       "    .dataframe thead th {\n",
       "        text-align: right;\n",
       "    }\n",
       "</style>\n",
       "<table border=\"1\" class=\"dataframe\">\n",
       "  <thead>\n",
       "    <tr style=\"text-align: right;\">\n",
       "      <th></th>\n",
       "      <th>电影ID</th>\n",
       "      <th>电影名</th>\n",
       "      <th>上映年度</th>\n",
       "      <th>电影英文名</th>\n",
       "      <th>类型</th>\n",
       "      <th>片长</th>\n",
       "      <th>上映时间</th>\n",
       "      <th>制式</th>\n",
       "      <th>国家及地区</th>\n",
       "      <th>累计票房</th>\n",
       "      <th>发行公司</th>\n",
       "      <th>导演</th>\n",
       "      <th>主演</th>\n",
       "      <th>制片公司列表</th>\n",
       "      <th>发行公司列表</th>\n",
       "    </tr>\n",
       "  </thead>\n",
       "  <tbody>\n",
       "    <tr>\n",
       "      <th>1</th>\n",
       "      <td>1007</td>\n",
       "      <td>无间道2</td>\n",
       "      <td>2003</td>\n",
       "      <td>Mou gaan dou II</td>\n",
       "      <td>警匪/动作</td>\n",
       "      <td>119</td>\n",
       "      <td>2003-9-5（中国）</td>\n",
       "      <td>2D</td>\n",
       "      <td>中国香港/中国/新加坡</td>\n",
       "      <td>800.8万</td>\n",
       "      <td>寰亚影视发行（香港）有限公司,</td>\n",
       "      <td>刘伟强 Andrew Lau,</td>\n",
       "      <td>黄秋生 Anthony Wong,曾志伟 Eric Tsang,刘嘉玲 Carina Lau...</td>\n",
       "      <td>寰亚电影制作有限公司 Media Asia Film Production Co., Ltd...</td>\n",
       "      <td>A,Bright Angel Distribution,Cinema Mondo,Comst...</td>\n",
       "    </tr>\n",
       "    <tr>\n",
       "      <th>2</th>\n",
       "      <td>1008</td>\n",
       "      <td>无间道3</td>\n",
       "      <td>2003</td>\n",
       "      <td>Mou gaan dou III: Jung gik mou gaan</td>\n",
       "      <td>警匪</td>\n",
       "      <td>118</td>\n",
       "      <td>2003-12-11（中国）</td>\n",
       "      <td>2D</td>\n",
       "      <td>中国香港/中国</td>\n",
       "      <td>3601.0万</td>\n",
       "      <td>寰亚影视发行（香港）有限公司,</td>\n",
       "      <td>刘伟强 Andrew Lau,麦兆辉 Alan Mak,</td>\n",
       "      <td>梁朝伟 Tony Leung,刘德华 Andy Lau,黎明 Leon Lai,陈道明 Da...</td>\n",
       "      <td>寰亚电影制作有限公司 Media Asia Film Production Co., Ltd...</td>\n",
       "      <td>A,Bright Angel Distribution,Cinema Mondo,Comst...</td>\n",
       "    </tr>\n",
       "    <tr>\n",
       "      <th>3</th>\n",
       "      <td>1016</td>\n",
       "      <td>墨攻</td>\n",
       "      <td>2006</td>\n",
       "      <td>Muk gong</td>\n",
       "      <td>战争</td>\n",
       "      <td>133</td>\n",
       "      <td>2006-11-23（中国）</td>\n",
       "      <td>2D</td>\n",
       "      <td>中国/日本/韩国/中国香港</td>\n",
       "      <td>6701.8万</td>\n",
       "      <td>安乐影片有限公司,</td>\n",
       "      <td>张之亮 Jacob Cheung,</td>\n",
       "      <td>刘德华 Andy Lau,安圣基 Seong,王志文 Zhiwen Wang,范冰冰 Bin...</td>\n",
       "      <td>Boram Entertainment Inc.,Comstock,Hark &amp;#38; C...</td>\n",
       "      <td>Amuse Soft Entertainment,Comstock,Deltamac Ent...</td>\n",
       "    </tr>\n",
       "    <tr>\n",
       "      <th>6</th>\n",
       "      <td>1020</td>\n",
       "      <td>蓝莓之夜</td>\n",
       "      <td>2007</td>\n",
       "      <td>My Blueberry Nights</td>\n",
       "      <td>爱情/公路</td>\n",
       "      <td>90</td>\n",
       "      <td>2007-12-22（中国）</td>\n",
       "      <td>2D</td>\n",
       "      <td>中国香港/中国/法国</td>\n",
       "      <td>1207.4万</td>\n",
       "      <td>美国环球影业公司,</td>\n",
       "      <td>王家卫 Kar Wai Wong,</td>\n",
       "      <td>裘德·洛 Jude Law,诺拉·琼斯 Norah Jones,弗兰基·费森 Frankie...</td>\n",
       "      <td>Block 2 Pictures,泽东电影公司 Jet Tone Production Co...</td>\n",
       "      <td>Frenetic Films,美国环球影业公司 Universal Pictures (Un...</td>\n",
       "    </tr>\n",
       "    <tr>\n",
       "      <th>8</th>\n",
       "      <td>1027</td>\n",
       "      <td>男儿本色</td>\n",
       "      <td>2007</td>\n",
       "      <td>Naam yi boon sik</td>\n",
       "      <td>警匪</td>\n",
       "      <td>128</td>\n",
       "      <td>2007-7-19（中国）</td>\n",
       "      <td>2D</td>\n",
       "      <td>中国香港/中国</td>\n",
       "      <td>3408.7万</td>\n",
       "      <td>寰宇影片发行有限公司,</td>\n",
       "      <td>陈木胜 Benny Chan,</td>\n",
       "      <td>谢霆锋 Nicholas Tse,房祖名 Jaycee Chan,余文乐 Shawn Yue...</td>\n",
       "      <td>Universe Films Ltd.,银都机构有限公司 Sil,广东英明文化传播有限公司 ...</td>\n",
       "      <td>寰宇影片发行有限公司 Universe Films Distribution Co.,Ltd...</td>\n",
       "    </tr>\n",
       "  </tbody>\n",
       "</table>\n",
       "</div>"
      ],
      "text/plain": [
       "   电影ID   电影名  上映年度                                电影英文名     类型   片长  \\\n",
       "1  1007  无间道2  2003                      Mou gaan dou II  警匪/动作  119   \n",
       "2  1008  无间道3  2003  Mou gaan dou III: Jung gik mou gaan     警匪  118   \n",
       "3  1016    墨攻  2006                             Muk gong     战争  133   \n",
       "6  1020  蓝莓之夜  2007                  My Blueberry Nights  爱情/公路   90   \n",
       "8  1027  男儿本色  2007                     Naam yi boon sik     警匪  128   \n",
       "\n",
       "             上映时间  制式          国家及地区     累计票房             发行公司  \\\n",
       "1    2003-9-5（中国）  2D    中国香港/中国/新加坡   800.8万  寰亚影视发行（香港）有限公司,   \n",
       "2  2003-12-11（中国）  2D        中国香港/中国  3601.0万  寰亚影视发行（香港）有限公司,   \n",
       "3  2006-11-23（中国）  2D  中国/日本/韩国/中国香港  6701.8万        安乐影片有限公司,   \n",
       "6  2007-12-22（中国）  2D     中国香港/中国/法国  1207.4万        美国环球影业公司,   \n",
       "8   2007-7-19（中国）  2D        中国香港/中国  3408.7万      寰宇影片发行有限公司,   \n",
       "\n",
       "                             导演  \\\n",
       "1               刘伟强 Andrew Lau,   \n",
       "2  刘伟强 Andrew Lau,麦兆辉 Alan Mak,   \n",
       "3             张之亮 Jacob Cheung,   \n",
       "6             王家卫 Kar Wai Wong,   \n",
       "8               陈木胜 Benny Chan,   \n",
       "\n",
       "                                                  主演  \\\n",
       "1  黄秋生 Anthony Wong,曾志伟 Eric Tsang,刘嘉玲 Carina Lau...   \n",
       "2  梁朝伟 Tony Leung,刘德华 Andy Lau,黎明 Leon Lai,陈道明 Da...   \n",
       "3  刘德华 Andy Lau,安圣基 Seong,王志文 Zhiwen Wang,范冰冰 Bin...   \n",
       "6  裘德·洛 Jude Law,诺拉·琼斯 Norah Jones,弗兰基·费森 Frankie...   \n",
       "8  谢霆锋 Nicholas Tse,房祖名 Jaycee Chan,余文乐 Shawn Yue...   \n",
       "\n",
       "                                              制片公司列表  \\\n",
       "1  寰亚电影制作有限公司 Media Asia Film Production Co., Ltd...   \n",
       "2  寰亚电影制作有限公司 Media Asia Film Production Co., Ltd...   \n",
       "3  Boram Entertainment Inc.,Comstock,Hark &#38; C...   \n",
       "6  Block 2 Pictures,泽东电影公司 Jet Tone Production Co...   \n",
       "8  Universe Films Ltd.,银都机构有限公司 Sil,广东英明文化传播有限公司 ...   \n",
       "\n",
       "                                              发行公司列表  \n",
       "1  A,Bright Angel Distribution,Cinema Mondo,Comst...  \n",
       "2  A,Bright Angel Distribution,Cinema Mondo,Comst...  \n",
       "3  Amuse Soft Entertainment,Comstock,Deltamac Ent...  \n",
       "6  Frenetic Films,美国环球影业公司 Universal Pictures (Un...  \n",
       "8  寰宇影片发行有限公司 Universe Films Distribution Co.,Ltd...  "
      ]
     },
     "execution_count": 61,
     "metadata": {},
     "output_type": "execute_result"
    }
   ],
   "source": [
    "\n",
    "#在表一中找到对应片长\n",
    "ids_df = movies_df[movies_df['电影ID'].isin(ids)]\n",
    "#用正则表达式提取片长中的数字\n",
    "ids_df['片长'] =ids_df['片长'].apply(lambda x: re.findall(r'\\d+\\.?\\d*', str(x))[0] if re.findall(r'\\d+\\.?\\d*', str(x)) else None)\n",
    "ids_df.head()"
   ]
  },
  {
   "cell_type": "code",
   "execution_count": null,
   "id": "852242c8",
   "metadata": {},
   "outputs": [
    {
     "name": "stdout",
     "output_type": "stream",
     "text": [
      "{1007: '119', 1008: '118', 1016: '133', 1020: '90', 1027: '128', 1029: None, 1037: '132', 1042: '120', 1088: '109', 1092: '125', 1098: '116', 1108: '108', 112: '91', 1123: '95', 1125: '107', 1208: '107', 1227: '102', 1233: '118', 1242: '118', 1245: '111', 1247: '157', 1262: '116', 1276: '90', 1283: None, 131: '100', 1320: '119', 1327: '140', 1338: None, 1363: '100', 1367: '93', 1380: '107', 1396: '116', 14: None, 1413: '95', 1414: '126', 1420: None, 1424: '114', 1435: '95', 1437: '113', 1439: '104', 1446: '101', 1464: '89', 1466: '102', 1474: '86', 1491: '103', 1495: None, 1527: '135', 1532: '89', 1536: '120', 1558: '128', 1617: '129', 1629: '116', 164: '115', 1659: '123', 1674: '91', 1679: '102', 169: '153', 1714: '98', 1754: '95', 1771: '131', 1774: '88', 1813: '95', 1818: '99', 1827: '110', 183: '102', 184: '150', 185: '114', 1870: '117', 188: '103', 1922: '129', 1992: None, 21: '96', 2215: '134', 2238: '93', 2270: '101', 2310: '109', 2348: '83', 2373: '91', 2405: '86', 2428: '111', 2429: '110', 2432: None, 2456: '99', 247: '100', 2520: '112', 254: '92', 255: '88', 2553: '95', 2559: '97', 2572: None, 2573: None, 263: '94', 273: '105', 2743: '98', 2763: '110', 2803: '97', 2809: '96', 287: '90', 2919: '88', 293: '94', 2931: '85', 297375: '92', 297383: '100', 297384: '108', 297385: '93', 297443: '93', 297447: '94', 297451: '127', 297474: '115', 297498: '118', 297535: '95', 297540: '102', 297565: '99', 298899: '97', 299356: '108', 299972: '96', 300005: None, 300095: '88', 300927: '97', 3012: None, 3015: '102', 3016: '102', 302023: '117', 302456: None, 303727: '114', 303851: '162', 304574: '143', 304784: '90', 305163: '116', 305439: '91', 306285: '122', 306340: '116', 307888: None, 3085: '98', 308889: '132', 309488: '89', 3095: '98', 311143: '96', 311903: '115', 3137: '80', 3142: '93', 315052: '116', 315054: None, 315151: '144', 315323: '141', 315577: '94', 315852: '106', 315927: '98', 315928: '106', 317033: '144', 317034: '143', 317408: '102'}\n",
      "[0, '96', '91', '100', '115', '153', '102', '150', '114', '103', '100', '92', '88', '94', '105', '90', '94', '119', '118', '133', '90', '128', 0, '132', '120', '109', '125', '116', '108', '95', '107', '107', '102', '118', '118', '111', '157', '116', '90', 0, '119', '140', 0, '100', '93', '107', '116', '95', '126', 0, '114', '95', '113', '104', '101', '89', '102', '86', '103', 0, '135', '89', '120', '128', '129', '116', '123', '91', '102', '98', '95', '131', '88', '95', '99', '110', '117', '129', 0, '134', '93', '101', '109', '83', '91', '86', '111', '110', 0, '99', '112', '95', '97', 0, 0, '98', '110', '97', '96', '88', '85', 0, '102', '102', '98', '98', '80', '93', '92', '100', '108', '93', '93', '94', '127', '115', '118', '95', '102', '99', '97', '108', '96', 0, '88', '97', '117', 0, '114', '162', '143', '90', '116', '91', '122', '116', 0, '132', '89', '96', '115', '116', 0, '144', '141', '94', '106', '98', '106', '144', '143', '102']\n"
     ]
    }
   ],
   "source": [
    "#提取times\n",
    "id_time = ids_df.set_index('电影ID')['片长'].to_dict()\n",
    "\n",
    "times = [id_time.get(movie_id, 0) if pd.notna(id_time.get(movie_id)) else 0 for movie_id in ids]\n",
    "print(id_time)\n",
    "print(times)\n",
    "#id/time/salary一一对应"
   ]
  },
  {
   "cell_type": "code",
   "execution_count": 79,
   "id": "33265c7e",
   "metadata": {},
   "outputs": [
    {
     "data": {
      "image/png": "[encoded data removed]",
      "text/plain": [
       "<Figure size 640x480 with 1 Axes>"
      ]
     },
     "metadata": {},
     "output_type": "display_data"
    }
   ],
   "source": [
    "plt.scatter(times, accum_salary, s = 15)\n",
    "plt.grid()\n",
    "plt.xlabel('片长（min）')\n",
    "plt.ylabel('电影ID')\n",
    "plt.title('片长与累计票房散点图')\n",
    "plt.show()"
   ]
  }
 ],
 "metadata": {
  "kernelspec": {
   "display_name": "Python 3",
   "language": "python",
   "name": "python3"
  },
  "language_info": {
   "codemirror_mode": {
    "name": "ipython",
    "version": 3
   },
   "file_extension": ".py",
   "mimetype": "text/x-python",
   "name": "python",
   "nbconvert_exporter": "python",
   "pygments_lexer": "ipython3",
   "version": "3.11.13"
  }
 },
 "nbformat": 4,
 "nbformat_minor": 5
}
